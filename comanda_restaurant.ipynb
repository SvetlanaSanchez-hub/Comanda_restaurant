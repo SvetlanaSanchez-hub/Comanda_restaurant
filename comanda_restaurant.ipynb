{
  "nbformat": 4,
  "nbformat_minor": 0,
  "metadata": {
    "colab": {
      "name": "comanda_restaurant.ipynb",
      "provenance": []
    },
    "kernelspec": {
      "name": "python3",
      "display_name": "Python 3"
    },
    "language_info": {
      "name": "python"
    }
  },
  "cells": [
    {
      "cell_type": "code",
      "metadata": {
        "colab": {
          "base_uri": "https://localhost:8080/"
        },
        "id": "TPDwwI5H4PjK",
        "outputId": "f61086da-9161-4198-9d45-1556aeccdc16"
      },
      "source": [
        "    menu_select = {\n",
        "                    \"Mesa\" : 3,\n",
        "                    \"Comensal\" : 2,\n",
        "                    \"ENTRADA\" : \"Ensalada verde\",\n",
        "                    \"MEDIO\" : \"Crema de zanahoria\",\n",
        "                    \"FUERTE\" : \"Filete\",\n",
        "                    \"ADICIONALES\" : \"Filete término medio, ensalada sin ningún tipo de semilla, aderezo ranch\"\n",
        "                }\n",
        "\n",
        "    print(\"Detalle: \" , end=\"\")\n",
        "\n",
        "                        \n",
        "    print(f\"\\n\\t\\tMesa: {menu_select['Mesa']}\\n\\t\\tComensal: {menu_select['Comensal']}\\n\\t\\t ENTRADA: {menu_select['ENTRADA']}\\n\\t\\t MEDIO:{menu_select['MEDIO']}\\n\\t\\tFUERTE: {menu_select['FUERTE']}\\n\\t\\tMEDIO: {menu_select['ADICIONALES']}\")\n",
        "    "
      ],
      "execution_count": 4,
      "outputs": [
        {
          "output_type": "stream",
          "name": "stdout",
          "text": [
            "Detalle: \n",
            "\t\tMesa: 3\n",
            "\t\tComensal: 2\n",
            "\t\t ENTRADA: Ensalada verde\n",
            "\t\t MEDIO:Crema de zanahoria\n",
            "\t\tFUERTE: Filete\n",
            "\t\tMEDIO: Filete término medio, ensalada sin ningún tipo de semilla, aderezo ranch\n"
          ]
        }
      ]
    }
  ]
}